{
 "cells": [
  {
   "cell_type": "code",
   "execution_count": 2,
   "id": "a1cdc1d3",
   "metadata": {},
   "outputs": [
    {
     "name": "stdout",
     "output_type": "stream",
     "text": [
      "Arad 366\n",
      "Arad->Sibiu 393\n",
      "Arad->Sibiu->Rimnicu Vilcea 413\n",
      "Arad->Sibiu->Fagaras 415\n",
      "Arad->Sibiu->Rimnicu Vilcea->Pitesti 417\n",
      "Arad->Sibiu->Rimnicu Vilcea->Pitesti->Bucharest 418\n"
     ]
    }
   ],
   "source": [
    "class PQueue():\n",
    "    def __init__(self):\n",
    "        self.dict = {}\n",
    "        self.keys = []\n",
    "        self.sorted = False\n",
    "    def push(self, k, v):\n",
    "        self.dict[k] = v\n",
    "        self.sorted = False\n",
    "    def _sort(self):\n",
    "        self.keys = sorted(self.dict, key=self.dict.get,reverse=True)\n",
    "        self.sorted = True\n",
    "    def pop(self):\n",
    "        try:\n",
    "            if not self.sorted:\n",
    "                self._sort()\n",
    "            key = self.keys.pop()\n",
    "            value = self.dict[key]\n",
    "            self.dict.pop(key)\n",
    "            return key, value\n",
    "        except:\n",
    "            return None\n",
    "def heuristics(path):\n",
    "    h = {}\n",
    "    with open(path, 'r') as file:\n",
    "        for line in file:\n",
    "            k, v = line.split(\", \")\n",
    "            h[k] = int(v)\n",
    "    return h\n",
    "def path_costs(path):\n",
    "    c = {}\n",
    "    with open(path, 'r') as file:\n",
    "        for line in file:\n",
    "            line = line.split(\", \")\n",
    "            v = int(line.pop())\n",
    "            e1 = line.pop()\n",
    "            e2 = line.pop()\n",
    "            if e1 not in c:\n",
    "                c[e1] = {}\n",
    "            if e2 not in c:\n",
    "                c[e2] = {}\n",
    "            c[e1][e2] = c[e2][e1] = v\n",
    "    return c\n",
    "def a_star(start, goal, h, g):\n",
    "    frontier = PQueue()\n",
    "# pushing path and cost to pqueue\n",
    "    frontier.push(start, h[start])\n",
    "    while True:\n",
    "# poping path with least cost\n",
    "        path, cost = frontier.pop()\n",
    "        print(path+ \" \" +str(cost))\n",
    "# splitting out end node in path\n",
    "        end = path.split(\"->\")[-1]\n",
    "# removing heuristic value of end node from cost\n",
    "        cost -= h[end]\n",
    "        if goal == end:\n",
    "            break\n",
    "        for node, weight in g[end].items():\n",
    "# adding edge weight(cost) and node heuristic to total cost\n",
    "            new_cost = cost + weight + h[node]\n",
    "            new_path = path + \"->\" + node\n",
    "# adding new path and cost to pqueue\n",
    "            frontier.push(new_path, new_cost)\n",
    "a_star('Arad', 'Bucharest', heuristics('Heuristics.txt'),path_costs(\"Paths.txt\"))\n"
   ]
  },
  {
   "cell_type": "code",
   "execution_count": null,
   "id": "e3d0b43a",
   "metadata": {},
   "outputs": [],
   "source": []
  }
 ],
 "metadata": {
  "kernelspec": {
   "display_name": "Python 3 (ipykernel)",
   "language": "python",
   "name": "python3"
  },
  "language_info": {
   "codemirror_mode": {
    "name": "ipython",
    "version": 3
   },
   "file_extension": ".py",
   "mimetype": "text/x-python",
   "name": "python",
   "nbconvert_exporter": "python",
   "pygments_lexer": "ipython3",
   "version": "3.9.13"
  }
 },
 "nbformat": 4,
 "nbformat_minor": 5
}
